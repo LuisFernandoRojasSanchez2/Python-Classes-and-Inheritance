{
 "cells": [
  {
   "cell_type": "markdown",
   "metadata": {},
   "source": [
    "Below, we have provided a list of tuples that consist of student names, final exam scores, and whether or not they will pass the class. For some students, the tuple does not have a third element because it is unknown whether or not they will pass. Currently, the for loop does not work. Add a try/except clause so the code runs without an error - if there is no third element in the tuple, no changes should be made to the dictionary."
   ]
  },
  {
   "cell_type": "code",
   "execution_count": 5,
   "metadata": {},
   "outputs": [
    {
     "name": "stdout",
     "output_type": "stream",
     "text": [
      "tuple index out of range\n",
      "tuple index out of range\n",
      "tuple index out of range\n"
     ]
    }
   ],
   "source": [
    "\n",
    "students = [('Timmy', 95, 'Will pass'), ('Martha', 70), ('Betty', 82, 'Will pass'), ('Stewart', 50, 'Will not pass'), ('Ashley', 68), ('Natalie', 99, 'Will pass'), ('Archie', 71), ('Carl', 45, 'Will not pass')]\n",
    "\n",
    "passing = {'Will pass': 0, 'Will not pass': 0}\n",
    "for tup in students:\n",
    "    try:\n",
    "        if tup[2] == 'Will pass':\n",
    "            passing['Will pass'] += 1\n",
    "        elif tup[2] == 'Will not pass':\n",
    "            passing['Will not pass'] += 1\n",
    "\n",
    "    except Exception as e:\n",
    "        print(e)\n",
    "\n"
   ]
  },
  {
   "cell_type": "markdown",
   "metadata": {},
   "source": [
    "Below, we have provided code that does not run. Add a try/except clause so the code runs without errors. If an element is not able to undergo the addition operation, the string ‘Error’ should be appended to plus_four."
   ]
  },
  {
   "cell_type": "code",
   "execution_count": 7,
   "metadata": {},
   "outputs": [
    {
     "name": "stdout",
     "output_type": "stream",
     "text": [
      "can only concatenate str (not \"int\") to str\n",
      "can only concatenate str (not \"int\") to str\n",
      "can only concatenate str (not \"int\") to str\n",
      "can only concatenate str (not \"int\") to str\n",
      "can only concatenate str (not \"int\") to str\n",
      "can only concatenate str (not \"int\") to str\n",
      "can only concatenate str (not \"int\") to str\n"
     ]
    }
   ],
   "source": [
    "\n",
    "nums = [5, 9, '4', 3, 2, 1, 6, 5, '7', 4, 3, 2, 6, 7, 8, '0', 3, 4, 0, 6, 5, '3', 5, 6, 7, 8, '3', '1', 5, 6, 7, 9, 3, 2, 5, 6, '9', 2, 3, 4, 5, 1]\n",
    "\n",
    "plus_four = []\n",
    "\n",
    "for num in nums:\n",
    "    try:\n",
    "        plus_four.append(num+4)\n",
    "\n",
    "    except Exception as e:\n",
    "        plus_four.append('Error')\n",
    "        print(e)\n",
    "\n",
    "\n"
   ]
  }
 ],
 "metadata": {
  "kernelspec": {
   "display_name": "Python 3",
   "language": "python",
   "name": "python3"
  },
  "language_info": {
   "codemirror_mode": {
    "name": "ipython",
    "version": 3
   },
   "file_extension": ".py",
   "mimetype": "text/x-python",
   "name": "python",
   "nbconvert_exporter": "python",
   "pygments_lexer": "ipython3",
   "version": "3.12.4"
  }
 },
 "nbformat": 4,
 "nbformat_minor": 2
}
