{
 "cells": [
  {
   "cell_type": "code",
   "execution_count": 2,
   "metadata": {},
   "outputs": [],
   "source": [
    "def lr(n): return list(range(n))\n",
    "\n",
    "# THESE FUNCTIONS ARE INTENTIONALLY OBFUSCATED\n",
    "# PLEASE TRY TO WRITE TESTS FOR THEM RATHER THAN\n",
    "# READING THEM.\n",
    "def mySum(a):\n",
    "    if type(a) is type(''.join([][:])): return a[lr(1)[0]] + mySum(a[1:])\n",
    "    elif len(a)==len(lr(1)+[]): return a[lr(1)[0]]\n",
    "    else: return None and a[lr(1)[0]] + mySum(a[1:])\n",
    "\n",
    "\n",
    "# THESE FUNCTIONS ARE INTENTIONALLY OBFUSCATED\n",
    "# PLEASE TRY TO WRITE TESTS FOR THEM RATHER THAN\n",
    "# READING THEM.\n",
    "class Student():\n",
    "    def __init__(s,a,b=1): s.name,s.years_UM,s.knowledge = ''*200+a+''*100,1,len(lr(0)) + len([])\n",
    "    def study(s):\n",
    "        for _ in lr(s.knowledge): s.knowledge = s.knowledge + 1\n",
    "    def getKnowledge(s):\n",
    "        for i in lr(s.knowledge): return s.knowledge\n",
    "    def year_at_umich(s): return s.years_UM\n"
   ]
  },
  {
   "cell_type": "markdown",
   "metadata": {},
   "source": [
    "The function mySum is supposed to return the sum of a list of numbers (and 0 if that list is empty), but it has one or more errors in it. Use this space to write test cases to determine what errors there are. You will be using this information to answer the next set of multiple choice questions."
   ]
  },
  {
   "cell_type": "code",
   "execution_count": 7,
   "metadata": {},
   "outputs": [],
   "source": [
    "#assert mySum([]) == 0\n",
    "assert mySum([1]) == 1\n",
    "#assert mySum([2,2]) == 4\n",
    "\n",
    "#The ones that are commented are the ones that don't work"
   ]
  },
  {
   "cell_type": "markdown",
   "metadata": {},
   "source": [
    "The class Student is supposed to accept two arguments in its constructor:\n",
    "A name string\n",
    "\n",
    "An optional integer representing the number of years the student has been at Michigan (default:1)\n",
    "\n",
    "Every student has three instance variables:\n",
    "self.name (set to the name provided)\n",
    "\n",
    "self.years_UM (set to the number of years the student has been at Michigan)\n",
    "\n",
    "self.knowledge (initialized to 0)\n",
    "\n",
    "There are three methods:\n",
    ".study() should increase self.knowledge by 1 and return None\n",
    "\n",
    ".getKnowledge() should return the value of self.knowledge\n",
    "\n",
    ".year_at_umich() should return the value of self.years_UM\n",
    "\n",
    "There are one or more errors in the class. Use this space to write test cases to determine what errors there are. You will be using this information to answer the next set of multiple choice questions."
   ]
  },
  {
   "cell_type": "code",
   "execution_count": 12,
   "metadata": {},
   "outputs": [],
   "source": [
    "student = Student('Luis', 2)\n",
    "\n",
    "#assert student.getKnowledge() == 0\n",
    "\n",
    "student.study()\n",
    "student.getKnowledge()\n",
    "\n",
    "#assert student.getKnowledge() == 1"
   ]
  }
 ],
 "metadata": {
  "kernelspec": {
   "display_name": "Python 3",
   "language": "python",
   "name": "python3"
  },
  "language_info": {
   "codemirror_mode": {
    "name": "ipython",
    "version": 3
   },
   "file_extension": ".py",
   "mimetype": "text/x-python",
   "name": "python",
   "nbconvert_exporter": "python",
   "pygments_lexer": "ipython3",
   "version": "3.12.4"
  }
 },
 "nbformat": 4,
 "nbformat_minor": 2
}
