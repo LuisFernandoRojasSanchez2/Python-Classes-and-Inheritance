{
 "cells": [
  {
   "cell_type": "code",
   "execution_count": null,
   "metadata": {},
   "outputs": [],
   "source": [
    "class Point():\n",
    "    def __init__(self, x , y):\n",
    "        self.x = x\n",
    "        self.y = y\n",
    "\n",
    "    def __str__(self):\n",
    "        return 'Point ({}, {})'.format(self.x, self.y)\n",
    "\n",
    "    def getX(self):\n",
    "        return self.x\n",
    "    \n",
    "    def getY(self):\n",
    "        return self.y\n",
    "    \n",
    "    def distanceFromOrigin(self):\n",
    "        return (((self.x ** 2) + (self.y ** 2)) ** 0.5 )\n",
    "    \n",
    "p = Point(7,6)\n",
    "\n",
    "p2 = Point(8, 9)\n",
    "\n",
    "print(p)\n",
    "print(p2)\n"
   ]
  },
  {
   "cell_type": "markdown",
   "metadata": {},
   "source": [
    "Create a class called Cereal that accepts three inputs: 2 strings and 1 integer, and assigns them to 3 instance variables in the constructor: name, brand, and fiber. When an instance of Cereal is printed, the user should see the following: “[name] cereal is produced by [brand] and has [fiber integer] grams of fiber in every serving!” To the variable name c1, assign an instance of Cereal whose name is \"Corn Flakes\", brand is \"Kellogg's\", and fiber is 2. To the variable name c2, assign an instance of Cereal whose name is \"Honey Nut Cheerios\", brand is \"General Mills\", and fiber is 3. Practice printing both!"
   ]
  },
  {
   "cell_type": "code",
   "execution_count": null,
   "metadata": {},
   "outputs": [
    {
     "name": "stdout",
     "output_type": "stream",
     "text": [
      "Corn Flakes cereal is produced by Kellogg's and has 2 grams of fiber in every serving!\n",
      "Honey Nut Cheerios cereal is produced by General Mills and has 3 grams of fiber in every serving!\n"
     ]
    }
   ],
   "source": [
    "class Cereal():\n",
    "    def __init__(self, name, brand, fiber):\n",
    "        self.name = name\n",
    "        self.brand = brand\n",
    "        self.fiber = fiber\n",
    "\n",
    "    def __str__(self):\n",
    "        return \"{} cereal is produced by {} and has {} grams of fiber in every serving!\".format(self.name, self.brand, self.fiber)\n",
    "    \n",
    "c1 = Cereal('Corn Flakes', \"Kellogg's\", 2)\n",
    "\n",
    "c2 = Cereal('Honey Nut Cheerios', 'General Mills', 3)\n",
    "\n",
    "print(c1)\n",
    "\n",
    "print(c2)\n",
    "        "
   ]
  },
  {
   "cell_type": "code",
   "execution_count": 1,
   "metadata": {},
   "outputs": [
    {
     "name": "stdout",
     "output_type": "stream",
     "text": [
      "Point (-5, 10)\n",
      "Point (15, 20)\n",
      "Point (10, 30)\n",
      "Point (-20, -10)\n"
     ]
    }
   ],
   "source": [
    "class Point:\n",
    "    def __init__(self, initX, initY):\n",
    "        self.x = initX\n",
    "        self.y = initY\n",
    "\n",
    "    def __str__(self):\n",
    "        return 'Point ({}, {})'.format(self.x, self.y)\n",
    "    \n",
    "    def __add__(self, otherPoint):\n",
    "        return Point(self.x + otherPoint.x,\n",
    "                     self.y + otherPoint.y)\n",
    "    \n",
    "    def __sub__(self, otherPoint):\n",
    "        return Point(self.x - otherPoint.x,\n",
    "                     self.y - otherPoint.y)\n",
    "    \n",
    "p1 = Point(-5, 10)\n",
    "p2 = Point(15, 20)\n",
    "\n",
    "print(p1)\n",
    "print(p2)\n",
    "\n",
    "print(p1 + p2)\n",
    "\n",
    "print(p1 - p2)"
   ]
  },
  {
   "cell_type": "code",
   "execution_count": 10,
   "metadata": {},
   "outputs": [
    {
     "name": "stdout",
     "output_type": "stream",
     "text": [
      "x = 4.0, y = 8.0\n",
      "4.0\n",
      "8.0\n"
     ]
    }
   ],
   "source": [
    "class Point:\n",
    "    def __init__(self, initX, initY):\n",
    "        self.x = initX\n",
    "        self.y = initY\n",
    "\n",
    "    def getX(self):\n",
    "        return self.x\n",
    "\n",
    "    def getY(self):\n",
    "        return self.y\n",
    "    \n",
    "    def distanceFromOrigin(self):\n",
    "        return(((self.x ** 2) + (self.y ** 2) ** 0.5))\n",
    "    \n",
    "    def halfway(self, target):\n",
    "            mx = (self.x + target.x)/2\n",
    "            my = (self.y + target.y)/2\n",
    "            return Point(mx, my)\n",
    "\n",
    "    def __str__(self):\n",
    "        return \"x = {}, y = {}\".format(self.x, self.y)\n",
    "    \n",
    "    \n",
    "    \n",
    "p = Point(3, 4)\n",
    "\n",
    "q = Point(5, 12)\n",
    "\n",
    "mid = p.halfway(q)\n",
    "\n",
    "print(mid)\n",
    "\n",
    "print(mid.getX())\n",
    "\n",
    "print(mid.getY())"
   ]
  },
  {
   "cell_type": "code",
   "execution_count": 21,
   "metadata": {},
   "outputs": [
    {
     "name": "stdout",
     "output_type": "stream",
     "text": [
      "Apple\n",
      "Cherry\n",
      "Blueberry\n"
     ]
    }
   ],
   "source": [
    "class Fruit:\n",
    "    def __init__(self, name, price):\n",
    "        self.name = name\n",
    "        self.price = price\n",
    "\n",
    "    def sort_priority(self):\n",
    "        return self.price\n",
    "\n",
    "L = [\n",
    "    Fruit('Cherry', 10),\n",
    "    Fruit('Apple', 5),\n",
    "    Fruit('Blueberry', 20)\n",
    "]\n",
    "\n",
    "\n",
    "for f in sorted(L, key=lambda x: x.sort_priority()): #or we could do key=Fruit.sort.priority\n",
    "    print(f.name)"
   ]
  }
 ],
 "metadata": {
  "kernelspec": {
   "display_name": "Python 3",
   "language": "python",
   "name": "python3"
  },
  "language_info": {
   "codemirror_mode": {
    "name": "ipython",
    "version": 3
   },
   "file_extension": ".py",
   "mimetype": "text/x-python",
   "name": "python",
   "nbconvert_exporter": "python",
   "pygments_lexer": "ipython3",
   "version": "3.12.4"
  }
 },
 "nbformat": 4,
 "nbformat_minor": 2
}
