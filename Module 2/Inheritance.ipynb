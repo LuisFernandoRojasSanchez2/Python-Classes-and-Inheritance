{
 "cells": [
  {
   "cell_type": "code",
   "execution_count": 10,
   "metadata": {},
   "outputs": [
    {
     "name": "stdout",
     "output_type": "stream",
     "text": [
      "1\n",
      "34\n",
      "Alice Smith (34)\n"
     ]
    }
   ],
   "source": [
    "CURRENT_YEAR = 2024\n",
    "class Person:\n",
    "    def __init__(self, name, year_born):\n",
    "        self.name = name\n",
    "        self.year_born = year_born\n",
    "\n",
    "    def getAge(self):\n",
    "        return CURRENT_YEAR - self.year_born\n",
    "    \n",
    "    def __str__(self):\n",
    "        return '{} ({})'.format(self.name, self.getAge())\n",
    "\n",
    "class Student(Person):\n",
    "    def __init__(self, name, year_born):\n",
    "        Person.__init__(self, name, year_born)\n",
    "        self.knowledge = 0\n",
    "\n",
    "    def study(self):\n",
    "        self.knowledge += 1\n",
    "    \n",
    "alice = Student('Alice Smith', 1990)\n",
    "alice.study()\n",
    "print(alice.knowledge)\n",
    "print(alice.getAge())\n",
    "print(alice)"
   ]
  },
  {
   "cell_type": "code",
   "execution_count": 19,
   "metadata": {},
   "outputs": [
    {
     "name": "stdout",
     "output_type": "stream",
     "text": [
      "2\n"
     ]
    }
   ],
   "source": [
    "class Book:\n",
    "    def __init__(self, title, author):\n",
    "        self.title = title\n",
    "        self.author = author\n",
    "\n",
    "    def __str__(self):\n",
    "        return '\"{}\" by {}'.format(self.title, self.author)\n",
    "    \n",
    "class PaperBook(Book):\n",
    "    def __init__(self, title, author, numPages):\n",
    "        Book.__init__(self, title, author)\n",
    "        self.numPages = numPages\n",
    "\n",
    "class EBook(Book):\n",
    "    def __init__(self, title, author, size):\n",
    "        Book.__init__(self, title, author)\n",
    "        self.size = size\n",
    "    \n",
    "myBook = EBook('The Odyssey', 'Homer', 2)\n",
    "myPaperBook = PaperBook('The Odyssey', \"Homer\", 500)\n",
    "\n",
    "class Library:\n",
    "    def __init__(self):\n",
    "        self.books = []\n",
    "\n",
    "    def addBook(self, book):\n",
    "        self.books.append(book)\n",
    "\n",
    "    def getNumBooks(self):\n",
    "        return len(self.books)\n",
    "\n",
    "#print(myBook.size)\n",
    "#print(myPaperBook.numPages)\n",
    "\n",
    "aadl = Library()\n",
    "\n",
    "aadl.addBook(myBook)\n",
    "\n",
    "aadl.addBook(myPaperBook)\n",
    "\n",
    "print(aadl.getNumBooks())"
   ]
  }
 ],
 "metadata": {
  "kernelspec": {
   "display_name": "Python 3",
   "language": "python",
   "name": "python3"
  },
  "language_info": {
   "codemirror_mode": {
    "name": "ipython",
    "version": 3
   },
   "file_extension": ".py",
   "mimetype": "text/x-python",
   "name": "python",
   "nbconvert_exporter": "python",
   "pygments_lexer": "ipython3",
   "version": "3.12.4"
  }
 },
 "nbformat": 4,
 "nbformat_minor": 2
}
